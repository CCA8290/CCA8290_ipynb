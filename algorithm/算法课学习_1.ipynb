{
 "cells": [
  {
   "source": [
    "# 对近期算法课的总结/本科阶段经典算法的复习    --last update 2020年09月21日"
   ],
   "cell_type": "markdown",
   "metadata": {}
  },
  {
   "cell_type": "markdown",
   "metadata": {},
   "source": [
    "## 1、整数划分问题\n",
    "+ n<m和(n,n)情况是一样的；\n",
    "+ n>m时，不包含m的划分是(n,m-1)，然后包含m只需要考虑n-m的划分数，   \n",
    "如：(6,4)只需继续考虑(6,3)以及6-4有几种划分"
   ]
  },
  {
   "cell_type": "code",
   "execution_count": 1,
   "metadata": {
    "tags": []
   },
   "outputs": [
    {
     "output_type": "stream",
     "name": "stdout",
     "text": "11\n"
    }
   ],
   "source": [
    "# 1、整数划分\n",
    "def divideNum(n,m):\n",
    "    if n==1 or m==1:    \n",
    "        return 1\n",
    "    elif n<m:   \n",
    "        return divideNum(n,n)\n",
    "    elif n==m:\n",
    "        return 1+divideNum(n,m-1)\n",
    "    else:       \n",
    "        return divideNum(n-m,m)+divideNum(n,m-1)\n",
    "\n",
    "print(divideNum(6,6))\n",
    "        "
   ]
  },
  {
   "source": [
    "## 2、 罗列一些排序"
   ],
   "cell_type": "markdown",
   "metadata": {}
  },
  {
   "source": [
    "### 2.1 冒泡排序"
   ],
   "cell_type": "markdown",
   "metadata": {}
  },
  {
   "cell_type": "code",
   "execution_count": 4,
   "metadata": {
    "tags": []
   },
   "outputs": [
    {
     "output_type": "stream",
     "name": "stdout",
     "text": "冒泡排序： [1, 10, 35, 36, 55, 61, 89]\n"
    }
   ],
   "source": [
    "num1=[10,1,35,61,89,36,55]\n",
    "def BubbleSort(lst):\n",
    "    for i in range(len(lst)-1):\n",
    "        for j in range(len(lst)-i-1):\n",
    "            if lst[j]>lst[j+1]:\n",
    "                lst[j],lst[j+1]=lst[j+1],lst[j]\n",
    "    return lst\n",
    "\n",
    "print('冒泡排序：',BubbleSort(num1))"
   ]
  },
  {
   "source": [
    "### 2.2 快速排序   \n",
    "快速排序由于排序效率在同为O(N*logN)的几种排序方法中效率较高，因此经常被采用，再加上快速排序思想----分治法也确实实用，因此很多软件公司的笔试面试，包括像腾讯，微软等知名IT公司都喜欢考这个，还有大大小的程序方面的考试如软考，考研中也常常出现快速排序的身影。    \n",
    "快速排序是<b>分治法</b>+<b>挖坑填补</b>，其基本思想如下：     \n",
    "\n",
    "+ 先从数列中取出一个数作为基准数。    \n",
    "+ 分区过程，将比这个数大的数全放到它的右边，小于或等于它的数全放到它的左边。   \n",
    "+ 再对左右区间重复第二步，直到各区间只有一个数。   \n",
    "可以参考[菜鸟教程](https://www.runoob.com/w3cnote/quick-sort.html)  \n",
    "\n",
    "也可以理解为：选一个基准元素，比它小的放在左边，比它大的放在右边。\n",
    "本节可以参考两个代码，一个是上述菜鸟教程的，一个是[CSDN](https://blog.csdn.net/newmemory/article/details/88598032)上的。"
   ],
   "cell_type": "markdown",
   "metadata": {}
  },
  {
   "cell_type": "code",
   "execution_count": 2,
   "metadata": {
    "tags": []
   },
   "outputs": [
    {
     "output_type": "execute_result",
     "data": {
      "text/plain": "[13, 27, 38, 49, 49, 65, 76, 97]"
     },
     "metadata": {},
     "execution_count": 2
    }
   ],
   "source": [
    "\n",
    "num2=[49,38,65,97,76,13,27,49]\n",
    "\n",
    "#-----------------------CSDN的写法，原始定义，递归调用，易理解----------------------\n",
    "def quick_sort(lst,left,right):\n",
    "\tif left < right:\n",
    "\t\ti = left\n",
    "\t\tj = right\n",
    "\t\tpivot = lst[left] #第一个元素作为基准\n",
    "\t\twhile i != j:\n",
    "\t\t\t# 交替扫描和交换\n",
    "\t\t\t# 从右往左找到第一个比枢轴量小的元素，交换位置\n",
    "\t\t\twhile j > i and lst[j] > pivot:\n",
    "\t\t\t\tj -= 1\n",
    "\t\t\tif j > i:\n",
    "\t\t\t\t# 如果找到了，进行元素交换\n",
    "\t\t\t\tlst[i] = lst[j]\n",
    "\t\t\t\ti += 1\n",
    "\t\t\t# 从左往右找到第一个比基准的元素，交换位置\n",
    "\t\t\twhile i < j and lst[i] < pivot:\n",
    "\t\t\t\ti += 1\n",
    "\t\t\tif i < j:\n",
    "\t\t\t\tlst[j] = lst[i]\n",
    "\t\t\t\tj -= 1\n",
    "\t\t# 至此完成一趟快速排序，基准的位置已经确定好了，就在i位置上（i和j)值相等\n",
    "\t\tlst[i] = pivot\n",
    "\t\t# 以i为基准，左右分别进行快速排序\n",
    "\t\tquick_sort(lst, left, i-1)\n",
    "\t\tquick_sort(lst, i+1, right)\n",
    "\t\treturn lst\n",
    "#print('快速排序：',quick_sort(num2,0,len(num2)-1))\n",
    "quick_sort(num2,0,len(num2)-1)\n"
   ]
  },
  {
   "source": [
    "### 2.3 归并排序"
   ],
   "cell_type": "markdown",
   "metadata": {}
  },
  {
   "cell_type": "code",
   "execution_count": 3,
   "metadata": {
    "tags": []
   },
   "outputs": [
    {
     "output_type": "stream",
     "name": "stdout",
     "text": "[1, 6, 8, 38, 100, 202, 301]\n"
    }
   ],
   "source": [
    "num3=[6,202,100,301,38,8,1]\n",
    "\n",
    "def MergeSort(lst):\n",
    "    if len(lst)<=1:\n",
    "        return lst\n",
    "    #递归\n",
    "    mid=int(len(lst)/2)\n",
    "    a=MergeSort(lst[:mid])   #[0,mid)，左闭右开\n",
    "    b=MergeSort(lst[mid:])   #mid到最后\n",
    "    #当a和b只有一个元素时，合并他们\n",
    "    return merge(a,b)\n",
    "\n",
    "def merge(a,b):  #合并相邻的区间a,b\n",
    "    result=[]\n",
    "    i=j=0    #指定位置\n",
    "    while i<len(a) and j<len(b):  #如果两个区间还未遍历完\n",
    "        if a[i]<b[j]:    #先把小的数放入result列表\n",
    "            result.append(a[i])\n",
    "            i+=1\n",
    "        else:\n",
    "            result.append(b[j])\n",
    "            j+=1\n",
    "    result+=a[i:]   #把剩下的数放进去\n",
    "    result+=b[j:]\n",
    "    return result\n",
    "\n",
    "print(MergeSort(num3))\n"
   ]
  },
  {
   "source": [
    "### 2.4 选择排序   \n",
    "选择排序（Selection sort）是一种简单直观的排序算法。它的工作原理是每一次从待排序的数据元素中选出最小（或最大）的一个元素，存放在序列的起始位置，所以称为：选择排序    \n",
    "注意区分选择排序和冒泡排序的区别，冒泡排序每和相邻元素比较一次就交换，选择排序是和后续所有元素比较完再交换。\n"
   ],
   "cell_type": "markdown",
   "metadata": {}
  },
  {
   "cell_type": "code",
   "execution_count": 5,
   "metadata": {
    "tags": []
   },
   "outputs": [
    {
     "output_type": "stream",
     "name": "stdout",
     "text": "选择排序： [11, 11, 22, 33, 33, 36, 39, 44, 55, 66, 69, 77, 88, 99]\n"
    }
   ],
   "source": [
    "num4=[11,99,33,69,77,88,55,11,33,36,39,66,44,22]\n",
    "def SelectionSort(lst):\n",
    "    for i in range(len(lst)):        #对于每一个元素\n",
    "        for j in range(i,len(lst)):  #这个元素之后的元素\n",
    "            if lst[j]<lst[i]:        #如果有比它小的\n",
    "                lst[i],lst[j]=lst[j],lst[i]  #交换位置\n",
    "    return lst\n",
    "\n",
    "print('选择排序：',SelectionSort(num4))"
   ]
  },
  {
   "source": [
    "### 2.5 插入排序\n",
    "算法图解可以见Insertion sort.gif    \n",
    "自己语言描述：每次将后续未排序序列的一个元素插入到前面已排序元素中，就像排序扑克牌   \n",
    "![扑克牌](insert.png)\n"
   ],
   "cell_type": "markdown",
   "metadata": {}
  },
  {
   "cell_type": "code",
   "execution_count": 6,
   "metadata": {
    "tags": []
   },
   "outputs": [
    {
     "output_type": "stream",
     "name": "stdout",
     "text": "插入排序： [1, 2, 3, 4, 5, 6, 10, 12]\n"
    }
   ],
   "source": [
    "num5=[4,3,2,10,12,1,5,6]\n",
    "def InsertionSort(lst):\n",
    "    for i in range(1,len(lst)):\n",
    "        key=lst[i]      #待插元素\n",
    "        j=i-1           #j左边的元素是有序的\n",
    "        while j>=0:\n",
    "            if lst[j]>key:    #如果待插左边比待插大\n",
    "                lst[j+1]=lst[j]  #它右移一位\n",
    "                lst[j]=key       #插进去\n",
    "            j-=1                 #接着往左看\n",
    "    return lst\n",
    "\n",
    "\n",
    "print('插入排序：',InsertionSort(num5))\n",
    "\n"
   ]
  },
  {
   "source": [
    "### 2.6 排序算法的简单总结\n",
    "参考[博客园](https://www.cnblogs.com/weiyalin/articles/11287694.html)    \n",
    "排序效果对比：\n",
    "![排序](sort.png) \n"
   ],
   "cell_type": "markdown",
   "metadata": {}
  }
 ],
 "metadata": {
  "kernelspec": {
   "display_name": "Python 3",
   "language": "python",
   "name": "python3"
  },
  "language_info": {
   "codemirror_mode": {
    "name": "ipython",
    "version": 3
   },
   "file_extension": ".py",
   "mimetype": "text/x-python",
   "name": "python",
   "nbconvert_exporter": "python",
   "pygments_lexer": "ipython3",
   "version": "3.7.6-final"
  },
  "varInspector": {
   "cols": {
    "lenName": 16,
    "lenType": 16,
    "lenVar": 40
   },
   "kernels_config": {
    "python": {
     "delete_cmd_postfix": "",
     "delete_cmd_prefix": "del ",
     "library": "var_list.py",
     "varRefreshCmd": "print(var_dic_list())"
    },
    "r": {
     "delete_cmd_postfix": ") ",
     "delete_cmd_prefix": "rm(",
     "library": "var_list.r",
     "varRefreshCmd": "cat(var_dic_list()) "
    }
   },
   "types_to_exclude": [
    "module",
    "function",
    "builtin_function_or_method",
    "instance",
    "_Feature"
   ],
   "window_display": false
  }
 },
 "nbformat": 4,
 "nbformat_minor": 4
}