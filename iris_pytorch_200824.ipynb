{
  "nbformat": 4,
  "nbformat_minor": 0,
  "metadata": {
    "kernelspec": {
      "display_name": "Python 3",
      "language": "python",
      "name": "python3"
    },
    "language_info": {
      "codemirror_mode": {
        "name": "ipython",
        "version": 3
      },
      "file_extension": ".py",
      "mimetype": "text/x-python",
      "name": "python",
      "nbconvert_exporter": "python",
      "pygments_lexer": "ipython3",
      "version": "3.7.6"
    },
    "varInspector": {
      "cols": {
        "lenName": 16,
        "lenType": 16,
        "lenVar": 40
      },
      "kernels_config": {
        "python": {
          "delete_cmd_postfix": "",
          "delete_cmd_prefix": "del ",
          "library": "var_list.py",
          "varRefreshCmd": "print(var_dic_list())"
        },
        "r": {
          "delete_cmd_postfix": ") ",
          "delete_cmd_prefix": "rm(",
          "library": "var_list.r",
          "varRefreshCmd": "cat(var_dic_list()) "
        }
      },
      "position": {
        "height": "285px",
        "left": "1546px",
        "right": "20px",
        "top": "120px",
        "width": "354px"
      },
      "types_to_exclude": [
        "module",
        "function",
        "builtin_function_or_method",
        "instance",
        "_Feature"
      ],
      "window_display": false
    },
    "colab": {
      "name": "iris_pytorch_200824.ipynb",
      "provenance": [],
      "collapsed_sections": []
    }
  },
  "cells": [
    {
      "cell_type": "code",
      "metadata": {
        "id": "h201ckkdqQ5T",
        "colab_type": "code",
        "colab": {
          "base_uri": "https://localhost:8080/",
          "height": 125
        },
        "outputId": "70e3e56d-bcc0-4ea6-a2ac-8b36482c945c"
      },
      "source": [
        "from sklearn import datasets\n",
        "import numpy as np\n",
        "dataset = datasets.load_iris()\n",
        "data = dataset['data']\n",
        "iris_type = dataset['target']\n",
        "print(type(data),data.shape)\n",
        "print(iris_type)"
      ],
      "execution_count": 27,
      "outputs": [
        {
          "output_type": "stream",
          "text": [
            "<class 'numpy.ndarray'> (150, 4)\n",
            "[0 0 0 0 0 0 0 0 0 0 0 0 0 0 0 0 0 0 0 0 0 0 0 0 0 0 0 0 0 0 0 0 0 0 0 0 0\n",
            " 0 0 0 0 0 0 0 0 0 0 0 0 0 1 1 1 1 1 1 1 1 1 1 1 1 1 1 1 1 1 1 1 1 1 1 1 1\n",
            " 1 1 1 1 1 1 1 1 1 1 1 1 1 1 1 1 1 1 1 1 1 1 1 1 1 1 2 2 2 2 2 2 2 2 2 2 2\n",
            " 2 2 2 2 2 2 2 2 2 2 2 2 2 2 2 2 2 2 2 2 2 2 2 2 2 2 2 2 2 2 2 2 2 2 2 2 2\n",
            " 2 2]\n"
          ],
          "name": "stdout"
        }
      ]
    },
    {
      "cell_type": "code",
      "metadata": {
        "id": "fpt8VNPYqQ5W",
        "colab_type": "code",
        "colab": {}
      },
      "source": [
        "import torch \n",
        "import torch.nn as nn\n",
        "import torch.nn.functional as F\n",
        "\n",
        "x=torch.FloatTensor(data)\n",
        "y=torch.LongTensor(iris_type)\n"
      ],
      "execution_count": 39,
      "outputs": []
    },
    {
      "cell_type": "code",
      "metadata": {
        "id": "aOJoL4C2qQ5Y",
        "colab_type": "code",
        "colab": {
          "base_uri": "https://localhost:8080/",
          "height": 89
        },
        "outputId": "d714d628-fa4f-4dc2-acfd-37eeb89f1372"
      },
      "source": [
        "# 定义BP神经网络\n",
        "class Net(torch.nn.Module):\n",
        "    def __init__(self, n_feature, n_hidden, n_output):\n",
        "        super(Net, self).__init__()\n",
        "        self.hidden = torch.nn.Linear(n_feature, n_hidden)\n",
        "        #self.hidden2 = torch.nn.Linear(n_hidden, n_hidden)\n",
        "        self.out = torch.nn.Linear(n_hidden, n_output)     #实际包含两个隐含层\n",
        "        \n",
        "    def forward(self,x):\n",
        "        x = F.relu(self.hidden(x))\n",
        "        #x = F.relu(self.hidden2(x))\n",
        "        x = self.out(x)\n",
        "        return x\n",
        "    \n",
        "net_test=Net(4,7,3)\n",
        "print(net_test)"
      ],
      "execution_count": 40,
      "outputs": [
        {
          "output_type": "stream",
          "text": [
            "Net(\n",
            "  (hidden): Linear(in_features=4, out_features=7, bias=True)\n",
            "  (out): Linear(in_features=7, out_features=3, bias=True)\n",
            ")\n"
          ],
          "name": "stdout"
        }
      ]
    },
    {
      "cell_type": "code",
      "metadata": {
        "id": "TLmqYKySuBqR",
        "colab_type": "code",
        "colab": {
          "base_uri": "https://localhost:8080/",
          "height": 265
        },
        "outputId": "2d52689a-b0bd-4d53-a436-21300e3e6f7d"
      },
      "source": [
        "\n",
        "import matplotlib.pyplot as plt\n",
        "net = Net(n_feature=4, n_hidden=20, n_output=3)\n",
        "optimizer = torch.optim.SGD(net.parameters(), lr=0.01) # SGD:随机梯度下降法\n",
        "\n",
        "loss_pic=[]\n",
        "for i in range(2000):\n",
        "    out = net(x)\n",
        "    criteria=nn.CrossEntropyLoss()\n",
        "    loss = criteria(out,y) # 输出与原始标签y对比\n",
        "    optimizer.zero_grad()  # 初始化梯度\n",
        "    loss.backward()\n",
        "    optimizer.step()\n",
        "    loss_pic.append(loss.data.numpy())\n",
        "    #print(loss.data.numpy())\n",
        "loss_pic=np.array(loss_pic)\n",
        "#print(loss_pic)\n",
        "plt.plot(loss_pic)\n",
        "#plt.savefig('loss.jpg')\n",
        "plt.show()"
      ],
      "execution_count": 95,
      "outputs": [
        {
          "output_type": "display_data",
          "data": {
            "image/png": "[encoded data removed]",
            "text/plain": [
              "<Figure size 432x288 with 1 Axes>"
            ]
          },
          "metadata": {
            "tags": [],
            "needs_background": "light"
          }
        }
      ]
    },
    {
      "cell_type": "code",
      "metadata": {
        "id": "IrOUkNRWuubQ",
        "colab_type": "code",
        "colab": {
          "base_uri": "https://localhost:8080/",
          "height": 35
        },
        "outputId": "92a5f0ec-1e29-44c3-8fb1-64df7db7b17e"
      },
      "source": [
        "\n",
        "out = net(x)\n",
        "# out是一个计算矩阵\n",
        "prediction = torch.max(out, 1)[1]\n",
        "pred_y = prediction.numpy()\n",
        "# 预测y输出数列\n",
        "target_y = y.data.numpy()\n",
        "# 实际y输出数据\n",
        "print((pred_y==target_y).sum()/len(y))"
      ],
      "execution_count": 96,
      "outputs": [
        {
          "output_type": "stream",
          "text": [
            "0.98\n"
          ],
          "name": "stdout"
        }
      ]
    },
    {
      "cell_type": "code",
      "metadata": {
        "id": "OQLTBJ0z2NMd",
        "colab_type": "code",
        "colab": {}
      },
      "source": [
        ""
      ],
      "execution_count": null,
      "outputs": []
    },
    {
      "cell_type": "code",
      "metadata": {
        "id": "AvcN45fqqQ5c",
        "colab_type": "code",
        "colab": {}
      },
      "source": [
        "#参照上面自己试着搭一个网络，学习一下\n",
        "class ownnet(torch.nn.Module):\n",
        "    def __init__(self):\n",
        "        super(ownnet,self).__init__()\n",
        "        self.conv1=nn.Conv2d(3,10,5)\n",
        "        self.conv2=nn.Conv2d(5,20,5)\n",
        "        self.fc=nn.Linear(32,64)\n",
        "        \n",
        "    def forward(self,x):\n",
        "        x=F.relu(self.conv1(x))\n",
        "        x=F.relu(self.conv2(x))\n",
        "        x=self.fc(x)\n",
        "        return x\n",
        "    \n",
        "nnn=ownnet()\n",
        "print(nnn)"
      ],
      "execution_count": null,
      "outputs": []
    },
    {
      "cell_type": "code",
      "metadata": {
        "id": "W2kQ93OoqTIG",
        "colab_type": "code",
        "colab": {}
      },
      "source": [
        "from torchvision import models\n",
        "\n",
        "model=models.resnet50(pretrained=True)\n",
        "print(model)"
      ],
      "execution_count": null,
      "outputs": []
    },
    {
      "cell_type": "code",
      "execution_count": null,
      "metadata": {},
      "outputs": [],
      "source": [
        "# 另一种方式，直接写在类里\n",
        "import torch\n",
        "import torch.nn as nn\n",
        "\n",
        "# 定义数据\n",
        "# x:输入数据\n",
        "# y:标签\n",
        "x = torch.Tensor([[0.2, 0.4], [0.2, 0.3], [0.3, 0.4]])\n",
        "y = torch.Tensor([[0.6], [0.5], [0.7]])\n",
        "\n",
        "\n",
        "class MyNet(nn.Module):\n",
        "    def __init__(self):\n",
        "        # 调用基类构造函数\n",
        "        super(MyNet, self).__init__()\n",
        "        # 容器，使用时顺序调用各个层\n",
        "        self.fc = nn.Sequential(\n",
        "            # 定义三层\n",
        "            # 输入层\n",
        "            nn.Linear(2, 4),\n",
        "            # 激活函数\n",
        "            nn.Sigmoid(),\n",
        "            # 隐藏层\n",
        "            nn.Linear(4, 4),\n",
        "            nn.Sigmoid(),\n",
        "            # 输出层\n",
        "            nn.Linear(4, 1),\n",
        "        )\n",
        "        # 优化器\n",
        "        # params:优化对象\n",
        "        # lr:学习率\n",
        "        self.opt = torch.optim.Adam(params=self.parameters(), lr=0.001)\n",
        "        # 损失函数,均方差\n",
        "        self.mls = torch.nn.MSELoss()\n",
        "\n",
        "    def forward(self, inputs):\n",
        "        # 前向传播\n",
        "        return self.fc(inputs)\n",
        "\n",
        "    def train(self, x, y):\n",
        "        # 训练\n",
        "        # 得到输出结果\n",
        "        out = self.forward(x)\n",
        "        # 计算误差\n",
        "        loss = self.mls(out, y)\n",
        "        # print('loss', loss)\n",
        "        # 梯度置零\n",
        "        self.opt.zero_grad()\n",
        "        # 误差反向传播\n",
        "        loss.backward()\n",
        "        # 更新权重\n",
        "        self.opt.step()\n",
        "\n",
        "    def test(self, x):\n",
        "        # 测试，就是前向传播的过程\n",
        "        return self.forward(x)\n",
        "\n",
        "\n",
        "net = MyNet()\n",
        "for i in range(10000):\n",
        "    net.train(x, y)\n",
        "x = torch.Tensor([[0.4, 0.1]])\n",
        "out = net.test(x)\n",
        "print(out)  # 输出结果 tensor([[0.5205]], grad_fn=<AddmmBackward>)"
      ]
    }
  ]
}